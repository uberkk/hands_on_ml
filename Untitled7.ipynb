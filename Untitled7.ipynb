{
 "cells": [
  {
   "cell_type": "code",
   "execution_count": 1,
   "metadata": {},
   "outputs": [],
   "source": [
    "a = 43"
   ]
  },
  {
   "cell_type": "code",
   "execution_count": 14,
   "metadata": {},
   "outputs": [
    {
     "name": "stdout",
     "output_type": "stream",
     "text": [
      "1/2/3/4\n",
      "Uğur/Berk/Şahin\n",
      "3 + 4'nin toplamı 7'dır'\n"
     ]
    }
   ],
   "source": [
    "b=4.6\n",
    "c= str(b)\n",
    "d= float(c)\n",
    "c\n",
    "d\n",
    "print(1,2,3,4, sep = \"/\")\n",
    "print(\"Uğur\",\"Berk\",\"Şahin\",sep= \"/\")\n",
    "\n",
    "\n",
    "a=3\n",
    "b=4\n",
    "print(\"{} + {}'nin toplamı {}'dır'\".format(a,b,a+b))"
   ]
  },
  {
   "cell_type": "code",
   "execution_count": 17,
   "metadata": {},
   "outputs": [
    {
     "data": {
      "text/plain": [
       "['Elma', 35, 'Merhaba', 3.14, 5]"
      ]
     },
     "execution_count": 17,
     "metadata": {},
     "output_type": "execute_result"
    }
   ],
   "source": [
    "liste = [\"Elma\",35, \"Merhaba\",3.14,5]\n",
    "type(liste)\n",
    "liste"
   ]
  },
  {
   "cell_type": "code",
   "execution_count": 26,
   "metadata": {},
   "outputs": [
    {
     "data": {
      "text/plain": [
       "[10, 9, 8, 7, 6, 5, 4, 3, 2, 1]"
      ]
     },
     "execution_count": 26,
     "metadata": {},
     "output_type": "execute_result"
    }
   ],
   "source": [
    "len(liste)\n",
    "liste= [\"Merhaba\"]\n",
    "len(liste)\n",
    "liste= [1,2,3,4,5,6,7,8,9,10]\n",
    "liste[::-1]"
   ]
  },
  {
   "cell_type": "code",
   "execution_count": 33,
   "metadata": {},
   "outputs": [
    {
     "data": {
      "text/plain": [
       "1"
      ]
     },
     "execution_count": 33,
     "metadata": {},
     "output_type": "execute_result"
    }
   ],
   "source": [
    "tuple2=(1,2,3,4,5,6,7)\n",
    "type(tuple2)\n",
    "tuple[4]\n",
    "tuple2.count(1)"
   ]
  },
  {
   "cell_type": "code",
   "execution_count": 41,
   "metadata": {},
   "outputs": [
    {
     "ename": "SyntaxError",
     "evalue": "invalid syntax (<ipython-input-41-41d4ee9a9df1>, line 4)",
     "output_type": "error",
     "traceback": [
      "\u001b[1;36m  File \u001b[1;32m\"<ipython-input-41-41d4ee9a9df1>\"\u001b[1;36m, line \u001b[1;32m4\u001b[0m\n\u001b[1;33m    dict1.\u001b[0m\n\u001b[1;37m          ^\u001b[0m\n\u001b[1;31mSyntaxError\u001b[0m\u001b[1;31m:\u001b[0m invalid syntax\n"
     ]
    }
   ],
   "source": [
    "dict1= {\"sıfır\":0, \"bir\":1, \"iki\":2}\n",
    "dict1[\"bir\"]\n",
    "dict1[\"beş\"]=5\n"
   ]
  },
  {
   "cell_type": "markdown",
   "metadata": {},
   "source": [
    "\n",
    "type(a)\n",
    "a = input(\"Bir sayı girin\")\n",
    "b=input(\"Bir sayı girin\")\n",
    "c =input(\"Bir sayı girin\")\n",
    "d = int(a)*int(b)*int(c)\n"
   ]
  },
  {
   "cell_type": "code",
   "execution_count": 52,
   "metadata": {},
   "outputs": [
    {
     "data": {
      "text/plain": [
       "True"
      ]
     },
     "execution_count": 52,
     "metadata": {},
     "output_type": "execute_result"
    }
   ],
   "source": [
    "a = True \n",
    "type(a)\n",
    "bool(0.1)"
   ]
  },
  {
   "cell_type": "code",
   "execution_count": 54,
   "metadata": {},
   "outputs": [
    {
     "data": {
      "text/plain": [
       "NoneType"
      ]
     },
     "execution_count": 54,
     "metadata": {},
     "output_type": "execute_result"
    }
   ],
   "source": [
    "a = None\n",
    "type(a)"
   ]
  },
  {
   "cell_type": "code",
   "execution_count": 61,
   "metadata": {},
   "outputs": [
    {
     "name": "stdout",
     "output_type": "stream",
     "text": [
      "Girilmesi gereken thresh hold:s\n"
     ]
    },
    {
     "ename": "ValueError",
     "evalue": "invalid literal for int() with base 10: 's'",
     "output_type": "error",
     "traceback": [
      "\u001b[1;31m---------------------------------------------------------------------------\u001b[0m",
      "\u001b[1;31mValueError\u001b[0m                                Traceback (most recent call last)",
      "\u001b[1;32m<ipython-input-61-6dc703cb87ae>\u001b[0m in \u001b[0;36m<module>\u001b[1;34m\u001b[0m\n\u001b[1;32m----> 1\u001b[1;33m \u001b[0mthreshold\u001b[0m \u001b[1;33m=\u001b[0m \u001b[0mint\u001b[0m\u001b[1;33m(\u001b[0m\u001b[0minput\u001b[0m\u001b[1;33m(\u001b[0m\u001b[1;34m\"Girilmesi gereken thresh hold:\"\u001b[0m\u001b[1;33m)\u001b[0m\u001b[1;33m)\u001b[0m\u001b[1;33m\u001b[0m\u001b[1;33m\u001b[0m\u001b[0m\n\u001b[0m\u001b[0;32m      2\u001b[0m \u001b[1;32mif\u001b[0m \u001b[0mthreshold\u001b[0m\u001b[1;33m>\u001b[0m\u001b[1;36m10\u001b[0m\u001b[1;33m:\u001b[0m\u001b[1;33m\u001b[0m\u001b[1;33m\u001b[0m\u001b[0m\n\u001b[0;32m      3\u001b[0m     \u001b[0mprint\u001b[0m\u001b[1;33m(\u001b[0m\u001b[1;34m\"10dan büyük\"\u001b[0m\u001b[1;33m)\u001b[0m\u001b[1;33m\u001b[0m\u001b[1;33m\u001b[0m\u001b[0m\n\u001b[0;32m      4\u001b[0m \u001b[1;32melif\u001b[0m \u001b[0mthreshold\u001b[0m\u001b[1;33m>\u001b[0m\u001b[1;36m5\u001b[0m\u001b[1;33m:\u001b[0m\u001b[1;33m\u001b[0m\u001b[1;33m\u001b[0m\u001b[0m\n\u001b[0;32m      5\u001b[0m     \u001b[0mprint\u001b[0m\u001b[1;33m(\u001b[0m\u001b[1;34m\"5'ten büyük 10dan küçük\"\u001b[0m\u001b[1;33m)\u001b[0m\u001b[1;33m\u001b[0m\u001b[1;33m\u001b[0m\u001b[0m\n",
      "\u001b[1;31mValueError\u001b[0m: invalid literal for int() with base 10: 's'"
     ]
    }
   ],
   "source": [
    "threshold = int(input(\"Girilmesi gereken thresh hold:\"))\n",
    "if threshold>10:\n",
    "    print(\"10dan büyük\")\n",
    "elif threshold>5:\n",
    "    print(\"5'ten büyük 10dan küçük\")\n",
    "elif threshold<5:\n",
    "    print(\"5'ten küçük\")\n",
    "else:\n",
    "    print(\"tanımlı değil\")\n",
    "    \n"
   ]
  },
  {
   "cell_type": "code",
   "execution_count": 69,
   "metadata": {},
   "outputs": [
    {
     "name": "stdout",
     "output_type": "stream",
     "text": [
      "Toplam: 1, i: 1\n",
      "Toplam: 3, i: 2\n",
      "Toplam: 6, i: 3\n",
      "Toplam: 10, i: 4\n",
      "Toplam: 15, i: 5\n",
      "Toplam: 21, i: 6\n",
      "Toplam: 28, i: 7\n",
      "Toplam: 36, i: 8\n",
      "36\n"
     ]
    }
   ],
   "source": [
    "liste1= [(1,2),(3,4),(5,6),(7,8)]\n",
    "toplam = 0\n",
    "for j in liste1:\n",
    "    for i in j:\n",
    "        toplam = toplam + i\n",
    "        print(\"Toplam: {}, i: {}\".format(toplam,i))\n",
    "print(toplam)\n",
    "    \n",
    "    "
   ]
  },
  {
   "cell_type": "code",
   "execution_count": 2,
   "metadata": {},
   "outputs": [
    {
     "name": "stdout",
     "output_type": "stream",
     "text": [
      "1\n",
      "2\n",
      "3\n",
      "key:bir,value=1\n",
      "key:iki,value=2\n",
      "key:üç,value=3\n",
      "value total=6\n"
     ]
    }
   ],
   "source": [
    "dict1={\"bir\":1, \"iki\":2, \"üç\":3}\n",
    "dict1.items()\n",
    "dict1.values()\n",
    "toplam=0\n",
    "for i in dict1.values():\n",
    "    print(i)\n",
    "    \n",
    "for i,j in dict1.items():\n",
    "    print(\"key:{},value={}\".format(i,j))\n",
    "    toplam= toplam+j\n",
    "    \n",
    "print(\"value total={}\".format(toplam))\n"
   ]
  },
  {
   "cell_type": "code",
   "execution_count": 1,
   "metadata": {},
   "outputs": [
    {
     "ename": "NameError",
     "evalue": "name 'b' is not defined",
     "output_type": "error",
     "traceback": [
      "\u001b[1;31m---------------------------------------------------------------------------\u001b[0m",
      "\u001b[1;31mNameError\u001b[0m                                 Traceback (most recent call last)",
      "\u001b[1;32m<ipython-input-1-89e6c98d9288>\u001b[0m in \u001b[0;36m<module>\u001b[1;34m\u001b[0m\n\u001b[1;32m----> 1\u001b[1;33m \u001b[0mb\u001b[0m\u001b[1;33m\u001b[0m\u001b[1;33m\u001b[0m\u001b[0m\n\u001b[0m",
      "\u001b[1;31mNameError\u001b[0m: name 'b' is not defined"
     ]
    }
   ],
   "source": [
    "b"
   ]
  },
  {
   "cell_type": "code",
   "execution_count": null,
   "metadata": {},
   "outputs": [],
   "source": []
  },
  {
   "cell_type": "code",
   "execution_count": null,
   "metadata": {},
   "outputs": [],
   "source": []
  },
  {
   "cell_type": "code",
   "execution_count": null,
   "metadata": {},
   "outputs": [],
   "source": []
  },
  {
   "cell_type": "code",
   "execution_count": null,
   "metadata": {},
   "outputs": [],
   "source": []
  },
  {
   "cell_type": "code",
   "execution_count": null,
   "metadata": {},
   "outputs": [],
   "source": [
    "a\n"
   ]
  },
  {
   "cell_type": "code",
   "execution_count": 2,
   "metadata": {},
   "outputs": [
    {
     "name": "stdout",
     "output_type": "stream",
     "text": [
      "<class 'list'>\n",
      "isiminizi girin, not:çıkmak için q ya basıns\n",
      "isminiz ['s']\n",
      "isiminizi girin, not:çıkmak için q ya basına\n",
      "isminiz ['a']\n"
     ]
    },
    {
     "ename": "AttributeError",
     "evalue": "'NoneType' object has no attribute 'append'",
     "output_type": "error",
     "traceback": [
      "\u001b[1;31m---------------------------------------------------------------------------\u001b[0m",
      "\u001b[1;31mAttributeError\u001b[0m                            Traceback (most recent call last)",
      "\u001b[1;32m<ipython-input-2-7a0f04f1312c>\u001b[0m in \u001b[0;36m<module>\u001b[1;34m\u001b[0m\n\u001b[0;32m      7\u001b[0m     \u001b[1;32melse\u001b[0m\u001b[1;33m:\u001b[0m\u001b[1;33m\u001b[0m\u001b[1;33m\u001b[0m\u001b[0m\n\u001b[0;32m      8\u001b[0m         \u001b[0mprint\u001b[0m\u001b[1;33m(\u001b[0m\u001b[1;34m\"isminiz\"\u001b[0m\u001b[1;33m,\u001b[0m\u001b[0misim\u001b[0m\u001b[1;33m)\u001b[0m\u001b[1;33m\u001b[0m\u001b[1;33m\u001b[0m\u001b[0m\n\u001b[1;32m----> 9\u001b[1;33m         \u001b[0misimler\u001b[0m \u001b[1;33m=\u001b[0m \u001b[0misimler\u001b[0m\u001b[1;33m.\u001b[0m\u001b[0mappend\u001b[0m\u001b[1;33m(\u001b[0m\u001b[1;36m5\u001b[0m\u001b[1;33m)\u001b[0m\u001b[1;33m\u001b[0m\u001b[1;33m\u001b[0m\u001b[0m\n\u001b[0m\u001b[0;32m     10\u001b[0m \u001b[0mprint\u001b[0m\u001b[1;33m(\u001b[0m\u001b[0misimler\u001b[0m\u001b[1;33m)\u001b[0m\u001b[1;33m\u001b[0m\u001b[1;33m\u001b[0m\u001b[0m\n",
      "\u001b[1;31mAttributeError\u001b[0m: 'NoneType' object has no attribute 'append'"
     ]
    }
   ],
   "source": [
    "isimler=[\"berk\",\"berk\"]\n",
    "print(type(isimler))\n",
    "while True:\n",
    "    isim = [input(\"isiminizi girin, not:çıkmak için q ya basın\")]\n",
    "    if isim == [\"q\"]:\n",
    "        break\n",
    "    else:\n",
    "        print(\"isminiz\",isim)\n",
    "        isimler = isimler.append(5)\n",
    "print(isimler)"
   ]
  },
  {
   "cell_type": "code",
   "execution_count": 8,
   "metadata": {},
   "outputs": [
    {
     "data": {
      "text/plain": [
       "[2, 66, 8, 10, 12]"
      ]
     },
     "execution_count": 8,
     "metadata": {},
     "output_type": "execute_result"
    }
   ],
   "source": [
    "liste3= [1,33,4,5,6]\n",
    "liste2 = [i*2 for i in liste3]\n",
    "liste2"
   ]
  },
  {
   "cell_type": "code",
   "execution_count": 27,
   "metadata": {},
   "outputs": [
    {
     "data": {
      "text/plain": [
       "[1, 2, 3, 4, 5, 6, 7, 8, 9]"
      ]
     },
     "execution_count": 27,
     "metadata": {},
     "output_type": "execute_result"
    }
   ],
   "source": [
    "liste1=[(1,2),(3,4),(5,6)]\n",
    "\n",
    "liste2=[i*j for i,j in liste1]\n",
    "liste2\n",
    "s=\"Python\"\n",
    "liste2= [i*2 for i in s]\n",
    "liste2\n",
    "liste2=[(1,2,3),(4,5,6),(7,8,9)]\n",
    "liste2[2][2]\n",
    "\n",
    "liste3=[i for j in liste2 for i in j]\n",
    "liste3"
   ]
  },
  {
   "cell_type": "code",
   "execution_count": 33,
   "metadata": {},
   "outputs": [
    {
     "data": {
      "text/plain": [
       "3"
      ]
     },
     "execution_count": 33,
     "metadata": {},
     "output_type": "execute_result"
    }
   ],
   "source": [
    "def faktoriyel(a):\n",
    "    sonuc=1\n",
    "    global b\n",
    "    b=3\n",
    "    i=1\n",
    "    while i<=a:\n",
    "        sonuc = sonuc*i\n",
    "        i=i+1\n",
    "    return sonuc\n",
    "faktoriyel(5)\n",
    "b\n",
    "    "
   ]
  },
  {
   "cell_type": "code",
   "execution_count": 1,
   "metadata": {},
   "outputs": [],
   "source": [
    "ikiyleçarp = lambda x : x*2"
   ]
  },
  {
   "cell_type": "code",
   "execution_count": 2,
   "metadata": {},
   "outputs": [],
   "source": [
    "class Araba():\n",
    "    model = \"Renault Megane\"\n",
    "    yıl = \"2018\"\n",
    "    renk = \"Gümüş\"\n",
    "    silindir = 4"
   ]
  },
  {
   "cell_type": "code",
   "execution_count": 7,
   "metadata": {},
   "outputs": [],
   "source": [
    "araba1 = Araba()\n",
    "araba2 = Araba()\n"
   ]
  },
  {
   "cell_type": "code",
   "execution_count": 10,
   "metadata": {},
   "outputs": [
    {
     "data": {
      "text/plain": [
       "'Opel Corsa'"
      ]
     },
     "execution_count": 10,
     "metadata": {},
     "output_type": "execute_result"
    }
   ],
   "source": [
    "araba1.model = \"Opel Corsa\"\n",
    "araba1.model"
   ]
  },
  {
   "cell_type": "code",
   "execution_count": 12,
   "metadata": {},
   "outputs": [],
   "source": [
    "class Araba():\n",
    "    def __init__(self,model,renk,beygir_gücü,silindir):\n",
    "        print(\"init fonksiyonu çağrıldı\")\n",
    "        self.model = model\n",
    "        self.beygir_gücü = beygir_gücü\n",
    "        self.silindir = silindir\n"
   ]
  },
  {
   "cell_type": "code",
   "execution_count": 20,
   "metadata": {},
   "outputs": [
    {
     "name": "stdout",
     "output_type": "stream",
     "text": [
      "init fonksiyonu çağrıldı\n",
      "init fonksiyonu çağrıldı\n"
     ]
    },
    {
     "data": {
      "text/plain": [
       "'Renault Megane'"
      ]
     },
     "execution_count": 20,
     "metadata": {},
     "output_type": "execute_result"
    }
   ],
   "source": [
    "araba1 = Araba(\"Renault Megane\",\"Gümüş\",110,4)\n",
    "araba2 = Araba(\"Opel Corse\",\"Mavi\",100,5)\n",
    "araba1.model"
   ]
  },
  {
   "cell_type": "code",
   "execution_count": 38,
   "metadata": {},
   "outputs": [],
   "source": [
    "class Yazılımcı():\n",
    "    def __init__(self,isim,soyisim,numara,maaş,bildigi_diller):\n",
    "        self.isim = isim\n",
    "        self.soyisim = soyisim\n",
    "        self.numara = numara\n",
    "        self.maaş = maaş\n",
    "        self.bildigi_diller = [bildigi_diller]\n",
    "    def bilgilerigoster(self):\n",
    "        print(\"\"\"Yazılımcı objesinin özellikleri\n",
    "        isim = {}\n",
    "        soyisim = {}\n",
    "        numara = {}\n",
    "        maaş = {}\n",
    "        bildigi_diller = {}\n",
    "        \n",
    "        \"\"\".format(self.isim,self.soyisim,self.numara,self.maaş,self.bildigi_diller))\n",
    "    def zamyap(self,zam_miktarı):\n",
    "        print(\"Zam yapılıyor\")\n",
    "        self.maaş +=zam_miktarı\n",
    "    def dilekle(self,yeni_dil):\n",
    "        print(\"Dil Ekleniyor\")\n",
    "        self.bildigi_diller.append(yeni_dil)\n",
    "        \n",
    "        "
   ]
  },
  {
   "cell_type": "code",
   "execution_count": 40,
   "metadata": {},
   "outputs": [
    {
     "name": "stdout",
     "output_type": "stream",
     "text": [
      "Yazılımcı objesinin özellikleri\n",
      "        isim = Berk\n",
      "        soyisim = Sahin\n",
      "        numara = 23\n",
      "        maaş = 9000\n",
      "        bildigi_diller = ['Türkce']\n",
      "        \n",
      "        \n",
      "Zam yapılıyor\n",
      "Dil Ekleniyor\n",
      "Yazılımcı objesinin özellikleri\n",
      "        isim = Berk\n",
      "        soyisim = Sahin\n",
      "        numara = 23\n",
      "        maaş = 9500\n",
      "        bildigi_diller = ['Türkce', 'İngilizce']\n",
      "        \n",
      "        \n"
     ]
    }
   ],
   "source": [
    "yazilimci1= Yazılımcı(\"Berk\",\"Sahin\",23,9000,\"Türkce\")\n",
    "yazilimci1.bilgilerigoster()\n",
    "yazilimci1.zamyap(500)\n",
    "type(yazilimci1.bildigi_diller)\n",
    "yazilimci1.dilekle(\"İngilizce\")\n",
    "yazilimci1.bilgilerigoster()"
   ]
  },
  {
   "cell_type": "code",
   "execution_count": 80,
   "metadata": {},
   "outputs": [],
   "source": [
    "class Calisan():\n",
    "    \n",
    "    def __init__(self,isim,maas,departman):\n",
    "        self.isim = isim\n",
    "        self.maas = maas\n",
    "        self.departman = departman\n",
    "    def bilgilerigoster(self):\n",
    "        print(\"Calısan sınıfının bilgileri.........\")\n",
    "        print(\"İsim : {}, MAas:{}, Departman:{}\".format(self.isim,self.maas,self.departman))\n",
    "    def departman_degistir(self,yeni_departman):\n",
    "        self.departman = yeni_departman\n",
    "\n",
    "\n"
   ]
  },
  {
   "cell_type": "code",
   "execution_count": 81,
   "metadata": {},
   "outputs": [
    {
     "name": "stdout",
     "output_type": "stream",
     "text": [
      "Calısan sınıfının bilgileri.........\n",
      "İsim : Berk, MAas:9500, Departman:ee\n"
     ]
    }
   ],
   "source": [
    "yonetici1.maas_zam(500)\n",
    "yonetici1.bilgilerigoster()"
   ]
  },
  {
   "cell_type": "code",
   "execution_count": 5,
   "metadata": {},
   "outputs": [],
   "source": [
    "class Calisan():\n",
    "    \n",
    "    def __init__(self,isim,maas,departman):\n",
    "        self.isim = isim\n",
    "        self.maas = maas\n",
    "        self.departman = departman\n",
    "    def bilgilerigoster(self):\n",
    "        print(\"Calısan sınıfının bilgileri.........\")\n",
    "        print(\"İsim : {}, MAas:{}, Departman:{}\".format(self.isim,self.maas,self.departman))\n",
    "    def departman_degistir(self,yeni_departman):\n",
    "        self.departman = yeni_departman\n",
    "\n"
   ]
  },
  {
   "cell_type": "code",
   "execution_count": 9,
   "metadata": {},
   "outputs": [],
   "source": [
    "class Yonetici(Calisan):\n",
    "    \n",
    "    def __init__(self,isim,maas,departman,kisi_sayisi):\n",
    "        super().__init__(isim,maas,departman)\n",
    "        \n",
    "        self.kisi_sayisi= kisi_sayisi\n",
    "    def bilgilerigoster(self):\n",
    "        print(\"Calısan sınıfının bilgileri.........\")\n",
    "        print(\"İsim : {}, MAas:{}, Departman:{}\".format(self.isim,self.maas,self.departman))\n",
    "    def departman_degistir(self,yeni_departman):\n",
    "        self.departman = yeni_departman"
   ]
  },
  {
   "cell_type": "code",
   "execution_count": 11,
   "metadata": {},
   "outputs": [
    {
     "name": "stdout",
     "output_type": "stream",
     "text": [
      "Calısan sınıfının bilgileri.........\n",
      "İsim : Berk, MAas:9000, Departman:ee\n"
     ]
    }
   ],
   "source": [
    "yonetici1= Yonetici(\"Berk\",9000,\"ee\",5)\n",
    "yonetici1.bilgilerigoster()"
   ]
  },
  {
   "cell_type": "code",
   "execution_count": 2,
   "metadata": {},
   "outputs": [],
   "source": [
    "def terscevir(s):\n",
    "        return s[::-1]"
   ]
  },
  {
   "cell_type": "code",
   "execution_count": 3,
   "metadata": {},
   "outputs": [
    {
     "data": {
      "text/plain": [
       "'21'"
      ]
     },
     "execution_count": 3,
     "metadata": {},
     "output_type": "execute_result"
    }
   ],
   "source": [
    "terscevir(\"12\")"
   ]
  },
  {
   "cell_type": "code",
   "execution_count": 47,
   "metadata": {},
   "outputs": [],
   "source": [
    "open(\"bilgiler.txt\",\"w\") \n",
    "file = open(\"bilgiler.txt\",\"w\",encoding=\"utf-8\") \n",
    "file.close()\n",
    "file = open(\"C:/Users/berk_/OneDrive/Masaüstü/a/bilgiler.txt\",\"w\")\n",
    "file.write(\"Uğur Berk Şahin\")\n",
    "file.close()"
   ]
  },
  {
   "cell_type": "code",
   "execution_count": 26,
   "metadata": {},
   "outputs": [],
   "source": [
    "file.close()\n",
    "file = open(\"C:/Users/berk_/OneDrive/Masaüstü/a/bilgiler.txt\",\"a\",encoding=\"utf-8\")\n",
    "file.write(\"Uğur Berk Şahin\\n\")\n",
    "file.write(\"Mehmet Gencol\\n\")\n",
    "file.close()"
   ]
  },
  {
   "cell_type": "code",
   "execution_count": 29,
   "metadata": {},
   "outputs": [],
   "source": [
    "file = open(\"C:/Users/berk_/OneDrive/Masaüstü/a/bilgiler2.txt\",\"r\",encoding=\"utf-8\")\n",
    "file.close()"
   ]
  },
  {
   "cell_type": "code",
   "execution_count": 31,
   "metadata": {},
   "outputs": [],
   "source": [
    "try:\n",
    "    file = open(\"C:/Users/berk_/OneDrive/Masaüstü/a/bilgiler2.txt\",\"r\",encoding=\"utf-8\")\n",
    "except FileNotFoundError:\n",
    "    print(\"Dosya bulunamadı\")"
   ]
  },
  {
   "cell_type": "code",
   "execution_count": 32,
   "metadata": {},
   "outputs": [],
   "source": [
    "file = open(\"C:/Users/berk_/OneDrive/Masaüstü/a/bilgiler2.txt\",\"r\",encoding=\"utf-8\")\n",
    "file.close()"
   ]
  },
  {
   "cell_type": "code",
   "execution_count": 35,
   "metadata": {},
   "outputs": [
    {
     "name": "stdout",
     "output_type": "stream",
     "text": [
      "Uğur Berk Şahin\n",
      "Tolga Eren Şahin"
     ]
    }
   ],
   "source": [
    "file = open(\"C:/Users/berk_/OneDrive/Masaüstü/a/bilgiler2.txt\",\"r\")\n",
    "for i in file:\n",
    "    print(i,end = \"\")\n",
    "file.close()"
   ]
  },
  {
   "cell_type": "code",
   "execution_count": 49,
   "metadata": {},
   "outputs": [
    {
     "name": "stdout",
     "output_type": "stream",
     "text": [
      "\u0000\u0000\u0000\u0000\u0000\u0000\u0000\u0000\u0000\u0000deneme\n"
     ]
    }
   ],
   "source": [
    "with open(\"bilgiler.txt\",\"r+\",encoding=\"utf-8\") as file:\n",
    "    print(file.read())\n",
    "    file.seek(10)\n",
    "    file.write(\"deneme\")"
   ]
  },
  {
   "cell_type": "code",
   "execution_count": 52,
   "metadata": {},
   "outputs": [
    {
     "data": {
      "text/plain": [
       "120"
      ]
     },
     "execution_count": 52,
     "metadata": {},
     "output_type": "execute_result"
    }
   ],
   "source": [
    "from functools import reduce\n",
    "reduce(lambda x,y: x*y,[1,2,3,4,5])"
   ]
  },
  {
   "cell_type": "code",
   "execution_count": 54,
   "metadata": {},
   "outputs": [
    {
     "name": "stdout",
     "output_type": "stream",
     "text": [
      "[(1, 6), (2, 7), (3, 8), (4, 9), (5, 10)]\n"
     ]
    }
   ],
   "source": [
    "liste1= [1,2,3,4,5]\n",
    "liste2= [6,7,8,9,10,11]\n",
    "i=0\n",
    "sonuc=list()\n",
    "while(i<len(liste1) and i<len(liste2)):\n",
    "    sonuc.append((liste1[i],liste2[i]))\n",
    "    i+=1\n",
    "print(sonuc)"
   ]
  },
  {
   "cell_type": "code",
   "execution_count": 63,
   "metadata": {},
   "outputs": [
    {
     "name": "stdout",
     "output_type": "stream",
     "text": [
      "[(0, 'elma'), (1, 'armut'), (2, 'muz'), (3, 'seftali'), (4, 'nar')]\n"
     ]
    }
   ],
   "source": [
    "liste3= [\"elma\",\"armut\",\"muz\",\"seftali\",\"nar\"]\n",
    "fake_list=list()\n",
    "i=0\n",
    "while i<len(liste3):\n",
    "    fake_list.append((i,liste3[i]))\n",
    "    i+=1\n",
    "    \n",
    "print(fake_list)\n",
    "    "
   ]
  },
  {
   "cell_type": "code",
   "execution_count": 1,
   "metadata": {},
   "outputs": [
    {
     "ename": "NameError",
     "evalue": "name 'liste3' is not defined",
     "output_type": "error",
     "traceback": [
      "\u001b[1;31m---------------------------------------------------------------------------\u001b[0m",
      "\u001b[1;31mNameError\u001b[0m                                 Traceback (most recent call last)",
      "\u001b[1;32m<ipython-input-1-c38ad97c23fc>\u001b[0m in \u001b[0;36m<module>\u001b[1;34m\u001b[0m\n\u001b[1;32m----> 1\u001b[1;33m \u001b[0ma\u001b[0m\u001b[1;33m=\u001b[0m\u001b[0menumerate\u001b[0m\u001b[1;33m(\u001b[0m\u001b[0mliste3\u001b[0m\u001b[1;33m)\u001b[0m\u001b[1;33m\u001b[0m\u001b[1;33m\u001b[0m\u001b[0m\n\u001b[0m\u001b[0;32m      2\u001b[0m \u001b[1;32mfor\u001b[0m \u001b[0mi\u001b[0m\u001b[1;33m,\u001b[0m\u001b[0mj\u001b[0m \u001b[1;32min\u001b[0m \u001b[0ma\u001b[0m\u001b[1;33m:\u001b[0m\u001b[1;33m\u001b[0m\u001b[1;33m\u001b[0m\u001b[0m\n\u001b[0;32m      3\u001b[0m     \u001b[1;32mif\u001b[0m \u001b[1;33m(\u001b[0m\u001b[0mi\u001b[0m\u001b[1;33m%\u001b[0m\u001b[1;36m2\u001b[0m\u001b[1;33m==\u001b[0m\u001b[1;36m0\u001b[0m\u001b[1;33m)\u001b[0m\u001b[1;33m:\u001b[0m\u001b[1;33m\u001b[0m\u001b[1;33m\u001b[0m\u001b[0m\n\u001b[0;32m      4\u001b[0m         \u001b[0mprint\u001b[0m\u001b[1;33m(\u001b[0m\u001b[0mj\u001b[0m\u001b[1;33m)\u001b[0m\u001b[1;33m\u001b[0m\u001b[1;33m\u001b[0m\u001b[0m\n\u001b[0;32m      5\u001b[0m     \u001b[1;32melse\u001b[0m\u001b[1;33m:\u001b[0m\u001b[1;33m\u001b[0m\u001b[1;33m\u001b[0m\u001b[0m\n",
      "\u001b[1;31mNameError\u001b[0m: name 'liste3' is not defined"
     ]
    }
   ],
   "source": [
    "a=enumerate(liste3)\n",
    "for i,j in a:\n",
    "    if (i%2==0):\n",
    "        print(j)\n",
    "    else:\n",
    "        print(\"tek sayı\")"
   ]
  },
  {
   "cell_type": "code",
   "execution_count": 3,
   "metadata": {},
   "outputs": [
    {
     "data": {
      "text/plain": [
       "'0b100'"
      ]
     },
     "execution_count": 3,
     "metadata": {},
     "output_type": "execute_result"
    }
   ],
   "source": [
    "bin(4)"
   ]
  },
  {
   "cell_type": "code",
   "execution_count": 5,
   "metadata": {},
   "outputs": [
    {
     "data": {
      "text/plain": [
       "'0b10011'"
      ]
     },
     "execution_count": 5,
     "metadata": {},
     "output_type": "execute_result"
    }
   ],
   "source": [
    "bin(19)"
   ]
  },
  {
   "cell_type": "code",
   "execution_count": 7,
   "metadata": {},
   "outputs": [
    {
     "data": {
      "text/plain": [
       "3.223"
      ]
     },
     "execution_count": 7,
     "metadata": {},
     "output_type": "execute_result"
    }
   ],
   "source": [
    "round(3.22344,3)"
   ]
  },
  {
   "cell_type": "code",
   "execution_count": 8,
   "metadata": {},
   "outputs": [
    {
     "data": {
      "text/plain": [
       "'herkes ono bobo bocı'"
      ]
     },
     "execution_count": 8,
     "metadata": {},
     "output_type": "execute_result"
    }
   ],
   "source": [
    "\"herkes ana baba bacı\".replace(\"a\",\"o\")"
   ]
  }
 ],
 "metadata": {
  "kernelspec": {
   "display_name": "Python 3",
   "language": "python",
   "name": "python3"
  },
  "language_info": {
   "codemirror_mode": {
    "name": "ipython",
    "version": 3
   },
   "file_extension": ".py",
   "mimetype": "text/x-python",
   "name": "python",
   "nbconvert_exporter": "python",
   "pygments_lexer": "ipython3",
   "version": "3.7.1"
  }
 },
 "nbformat": 4,
 "nbformat_minor": 2
}
