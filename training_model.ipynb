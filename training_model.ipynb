{
 "cells": [
  {
   "cell_type": "code",
   "execution_count": 2,
   "metadata": {},
   "outputs": [
    {
     "data": {
      "text/plain": [
       "array([[1.87087034],\n",
       "       [1.75864595],\n",
       "       [0.62090341],\n",
       "       [0.63565248],\n",
       "       [1.4230717 ],\n",
       "       [1.54777926],\n",
       "       [1.63922618],\n",
       "       [0.7903657 ],\n",
       "       [0.15119152],\n",
       "       [0.40475172],\n",
       "       [0.18642462],\n",
       "       [1.89203015],\n",
       "       [0.14662466],\n",
       "       [0.99500889],\n",
       "       [0.07892837],\n",
       "       [0.38420111],\n",
       "       [0.33812509],\n",
       "       [0.00676679],\n",
       "       [0.32619566],\n",
       "       [0.53238023],\n",
       "       [0.95574491],\n",
       "       [0.86927847],\n",
       "       [0.822356  ],\n",
       "       [0.7878788 ],\n",
       "       [0.81373977],\n",
       "       [0.42133085],\n",
       "       [0.23308463],\n",
       "       [1.7519382 ],\n",
       "       [0.96990269],\n",
       "       [1.84188634],\n",
       "       [1.73462244],\n",
       "       [1.00878883],\n",
       "       [1.34370869],\n",
       "       [0.38270171],\n",
       "       [1.63725862],\n",
       "       [0.89424414],\n",
       "       [0.50859979],\n",
       "       [0.76277224],\n",
       "       [1.05411173],\n",
       "       [1.94500798],\n",
       "       [1.59034151],\n",
       "       [1.98739744],\n",
       "       [1.16112516],\n",
       "       [0.88106853],\n",
       "       [0.21048107],\n",
       "       [1.20342307],\n",
       "       [1.27554547],\n",
       "       [1.29337057],\n",
       "       [1.63563421],\n",
       "       [1.70264225],\n",
       "       [0.25280475],\n",
       "       [0.13907973],\n",
       "       [1.38645647],\n",
       "       [1.21411614],\n",
       "       [0.4679488 ],\n",
       "       [1.75004205],\n",
       "       [0.94642293],\n",
       "       [1.9930983 ],\n",
       "       [1.24987216],\n",
       "       [1.1341028 ],\n",
       "       [0.68115395],\n",
       "       [1.7366295 ],\n",
       "       [1.60002497],\n",
       "       [0.77615104],\n",
       "       [0.84205968],\n",
       "       [0.44387429],\n",
       "       [0.91656606],\n",
       "       [0.69743731],\n",
       "       [1.36942164],\n",
       "       [0.58090949],\n",
       "       [0.5031774 ],\n",
       "       [0.42631711],\n",
       "       [0.0568232 ],\n",
       "       [0.72585817],\n",
       "       [0.76923859],\n",
       "       [1.77001605],\n",
       "       [0.70870041],\n",
       "       [1.13844226],\n",
       "       [0.53785995],\n",
       "       [0.0128997 ],\n",
       "       [0.30597074],\n",
       "       [1.96852966],\n",
       "       [1.76597813],\n",
       "       [0.58723299],\n",
       "       [1.49073885],\n",
       "       [0.79156174],\n",
       "       [1.61001305],\n",
       "       [1.36564442],\n",
       "       [0.8234233 ],\n",
       "       [1.24427193],\n",
       "       [0.64401554],\n",
       "       [0.03451691],\n",
       "       [0.37048459],\n",
       "       [1.88942544],\n",
       "       [0.29901445],\n",
       "       [1.47426116],\n",
       "       [1.40368047],\n",
       "       [1.87059148],\n",
       "       [1.23135975],\n",
       "       [1.31585494]])"
      ]
     },
     "execution_count": 2,
     "metadata": {},
     "output_type": "execute_result"
    }
   ],
   "source": [
    "import numpy as np\n",
    "import matplotlib.pyplot as plt\n",
    "X = 2*np.random.rand(100,1)\n",
    "y = 4 + 3*X + np.random.randn(100,1)\n",
    "plt.scatter(X,y)\n",
    "X"
   ]
  },
  {
   "cell_type": "code",
   "execution_count": 3,
   "metadata": {},
   "outputs": [
    {
     "data": {
      "text/plain": [
       "array([[1.        , 1.87087034],\n",
       "       [1.        , 1.75864595],\n",
       "       [1.        , 0.62090341],\n",
       "       [1.        , 0.63565248],\n",
       "       [1.        , 1.4230717 ],\n",
       "       [1.        , 1.54777926],\n",
       "       [1.        , 1.63922618],\n",
       "       [1.        , 0.7903657 ],\n",
       "       [1.        , 0.15119152],\n",
       "       [1.        , 0.40475172],\n",
       "       [1.        , 0.18642462],\n",
       "       [1.        , 1.89203015],\n",
       "       [1.        , 0.14662466],\n",
       "       [1.        , 0.99500889],\n",
       "       [1.        , 0.07892837],\n",
       "       [1.        , 0.38420111],\n",
       "       [1.        , 0.33812509],\n",
       "       [1.        , 0.00676679],\n",
       "       [1.        , 0.32619566],\n",
       "       [1.        , 0.53238023],\n",
       "       [1.        , 0.95574491],\n",
       "       [1.        , 0.86927847],\n",
       "       [1.        , 0.822356  ],\n",
       "       [1.        , 0.7878788 ],\n",
       "       [1.        , 0.81373977],\n",
       "       [1.        , 0.42133085],\n",
       "       [1.        , 0.23308463],\n",
       "       [1.        , 1.7519382 ],\n",
       "       [1.        , 0.96990269],\n",
       "       [1.        , 1.84188634],\n",
       "       [1.        , 1.73462244],\n",
       "       [1.        , 1.00878883],\n",
       "       [1.        , 1.34370869],\n",
       "       [1.        , 0.38270171],\n",
       "       [1.        , 1.63725862],\n",
       "       [1.        , 0.89424414],\n",
       "       [1.        , 0.50859979],\n",
       "       [1.        , 0.76277224],\n",
       "       [1.        , 1.05411173],\n",
       "       [1.        , 1.94500798],\n",
       "       [1.        , 1.59034151],\n",
       "       [1.        , 1.98739744],\n",
       "       [1.        , 1.16112516],\n",
       "       [1.        , 0.88106853],\n",
       "       [1.        , 0.21048107],\n",
       "       [1.        , 1.20342307],\n",
       "       [1.        , 1.27554547],\n",
       "       [1.        , 1.29337057],\n",
       "       [1.        , 1.63563421],\n",
       "       [1.        , 1.70264225],\n",
       "       [1.        , 0.25280475],\n",
       "       [1.        , 0.13907973],\n",
       "       [1.        , 1.38645647],\n",
       "       [1.        , 1.21411614],\n",
       "       [1.        , 0.4679488 ],\n",
       "       [1.        , 1.75004205],\n",
       "       [1.        , 0.94642293],\n",
       "       [1.        , 1.9930983 ],\n",
       "       [1.        , 1.24987216],\n",
       "       [1.        , 1.1341028 ],\n",
       "       [1.        , 0.68115395],\n",
       "       [1.        , 1.7366295 ],\n",
       "       [1.        , 1.60002497],\n",
       "       [1.        , 0.77615104],\n",
       "       [1.        , 0.84205968],\n",
       "       [1.        , 0.44387429],\n",
       "       [1.        , 0.91656606],\n",
       "       [1.        , 0.69743731],\n",
       "       [1.        , 1.36942164],\n",
       "       [1.        , 0.58090949],\n",
       "       [1.        , 0.5031774 ],\n",
       "       [1.        , 0.42631711],\n",
       "       [1.        , 0.0568232 ],\n",
       "       [1.        , 0.72585817],\n",
       "       [1.        , 0.76923859],\n",
       "       [1.        , 1.77001605],\n",
       "       [1.        , 0.70870041],\n",
       "       [1.        , 1.13844226],\n",
       "       [1.        , 0.53785995],\n",
       "       [1.        , 0.0128997 ],\n",
       "       [1.        , 0.30597074],\n",
       "       [1.        , 1.96852966],\n",
       "       [1.        , 1.76597813],\n",
       "       [1.        , 0.58723299],\n",
       "       [1.        , 1.49073885],\n",
       "       [1.        , 0.79156174],\n",
       "       [1.        , 1.61001305],\n",
       "       [1.        , 1.36564442],\n",
       "       [1.        , 0.8234233 ],\n",
       "       [1.        , 1.24427193],\n",
       "       [1.        , 0.64401554],\n",
       "       [1.        , 0.03451691],\n",
       "       [1.        , 0.37048459],\n",
       "       [1.        , 1.88942544],\n",
       "       [1.        , 0.29901445],\n",
       "       [1.        , 1.47426116],\n",
       "       [1.        , 1.40368047],\n",
       "       [1.        , 1.87059148],\n",
       "       [1.        , 1.23135975],\n",
       "       [1.        , 1.31585494]])"
      ]
     },
     "execution_count": 3,
     "metadata": {},
     "output_type": "execute_result"
    }
   ],
   "source": [
    "X_b = np.c_[np.ones((100,1)), X]\n",
    "theta_best = np.linalg.inv(X_b.T.dot(X_b)).dot(X_b.T).dot(y)\n",
    "X_b"
   ]
  },
  {
   "cell_type": "code",
   "execution_count": 4,
   "metadata": {},
   "outputs": [
    {
     "data": {
      "text/plain": [
       "array([[3.93271462],\n",
       "       [3.02104766]])"
      ]
     },
     "execution_count": 4,
     "metadata": {},
     "output_type": "execute_result"
    }
   ],
   "source": [
    "theta_best"
   ]
  },
  {
   "cell_type": "code",
   "execution_count": 5,
   "metadata": {},
   "outputs": [
    {
     "data": {
      "text/plain": [
       "array([[0],\n",
       "       [2]])"
      ]
     },
     "execution_count": 5,
     "metadata": {},
     "output_type": "execute_result"
    }
   ],
   "source": [
    "X_new = np.array([[0],[2]])\n",
    "X_new_b = np.c_[np.ones((2,1)),X_new]\n",
    "y_predict = X_new_b.dot(theta_best)\n",
    "y_predict\n",
    "X_new"
   ]
  },
  {
   "cell_type": "code",
   "execution_count": 6,
   "metadata": {},
   "outputs": [
    {
     "data": {
      "image/png": "[encoded data removed]",
      "text/plain": [
       "<Figure size 432x288 with 1 Axes>"
      ]
     },
     "metadata": {
      "needs_background": "light"
     },
     "output_type": "display_data"
    }
   ],
   "source": [
    "plt.plot(X_new, y_predict, \"r-\")\n",
    "plt.plot(X,y, \"b.\")\n",
    "plt.axis([0,2,0,15])\n",
    "plt.show()"
   ]
  },
  {
   "cell_type": "code",
   "execution_count": 7,
   "metadata": {},
   "outputs": [
    {
     "data": {
      "text/plain": [
       "array([[3.93271462],\n",
       "       [9.97480994]])"
      ]
     },
     "execution_count": 7,
     "metadata": {},
     "output_type": "execute_result"
    }
   ],
   "source": [
    "from sklearn.linear_model import LinearRegression\n",
    "lin_reg = LinearRegression()\n",
    "lin_reg.fit(X,y)\n",
    "lin_reg.intercept_, lin_reg.coef_\n",
    "lin_reg.predict(X_new)"
   ]
  },
  {
   "cell_type": "code",
   "execution_count": 8,
   "metadata": {},
   "outputs": [
    {
     "ename": "NameError",
     "evalue": "name 'gradients' is not defined",
     "output_type": "error",
     "traceback": [
      "\u001b[1;31m---------------------------------------------------------------------------\u001b[0m",
      "\u001b[1;31mNameError\u001b[0m                                 Traceback (most recent call last)",
      "\u001b[1;32m<ipython-input-8-150f415bf39a>\u001b[0m in \u001b[0;36m<module>\u001b[1;34m\u001b[0m\n\u001b[0;32m      4\u001b[0m \u001b[0mtheta\u001b[0m \u001b[1;33m=\u001b[0m \u001b[0mnp\u001b[0m\u001b[1;33m.\u001b[0m\u001b[0mrandom\u001b[0m\u001b[1;33m.\u001b[0m\u001b[0mrandn\u001b[0m\u001b[1;33m(\u001b[0m\u001b[1;36m2\u001b[0m\u001b[1;33m,\u001b[0m\u001b[1;36m1\u001b[0m\u001b[1;33m)\u001b[0m\u001b[1;33m\u001b[0m\u001b[1;33m\u001b[0m\u001b[0m\n\u001b[0;32m      5\u001b[0m \u001b[1;32mfor\u001b[0m \u001b[0miteration\u001b[0m \u001b[1;32min\u001b[0m \u001b[0mrange\u001b[0m\u001b[1;33m(\u001b[0m\u001b[0mn_iterations\u001b[0m\u001b[1;33m)\u001b[0m\u001b[1;33m:\u001b[0m\u001b[1;33m\u001b[0m\u001b[1;33m\u001b[0m\u001b[0m\n\u001b[1;32m----> 6\u001b[1;33m     \u001b[1;32mif\u001b[0m\u001b[1;33m(\u001b[0m\u001b[0mgradients\u001b[0m\u001b[1;33m.\u001b[0m\u001b[0mall\u001b[0m\u001b[1;33m(\u001b[0m\u001b[1;33m)\u001b[0m \u001b[1;33m>\u001b[0m\u001b[1;36m0.001\u001b[0m\u001b[1;33m)\u001b[0m\u001b[1;33m:\u001b[0m\u001b[1;33m\u001b[0m\u001b[1;33m\u001b[0m\u001b[0m\n\u001b[0m\u001b[0;32m      7\u001b[0m         \u001b[0mgradients\u001b[0m \u001b[1;33m=\u001b[0m \u001b[1;36m2\u001b[0m\u001b[1;33m/\u001b[0m\u001b[0mm\u001b[0m\u001b[1;33m*\u001b[0m\u001b[0mX_b\u001b[0m\u001b[1;33m.\u001b[0m\u001b[0mT\u001b[0m\u001b[1;33m.\u001b[0m\u001b[0mdot\u001b[0m\u001b[1;33m(\u001b[0m\u001b[0mX_b\u001b[0m\u001b[1;33m.\u001b[0m\u001b[0mdot\u001b[0m\u001b[1;33m(\u001b[0m\u001b[0mtheta\u001b[0m\u001b[1;33m)\u001b[0m\u001b[1;33m-\u001b[0m\u001b[0my\u001b[0m\u001b[1;33m)\u001b[0m\u001b[1;33m\u001b[0m\u001b[1;33m\u001b[0m\u001b[0m\n\u001b[0;32m      8\u001b[0m         \u001b[0mtheta\u001b[0m \u001b[1;33m=\u001b[0m \u001b[0mtheta\u001b[0m \u001b[1;33m-\u001b[0m \u001b[0meta\u001b[0m\u001b[1;33m*\u001b[0m\u001b[0mgradients\u001b[0m\u001b[1;33m\u001b[0m\u001b[1;33m\u001b[0m\u001b[0m\n",
      "\u001b[1;31mNameError\u001b[0m: name 'gradients' is not defined"
     ]
    }
   ],
   "source": [
    "eta = 0.1\n",
    "n_iterations = 100000\n",
    "m =100\n",
    "theta = np.random.randn(2,1)\n",
    "for iteration in range(n_iterations):\n",
    "    if(gradients.all() >0.001):\n",
    "        gradients = 2/m*X_b.T.dot(X_b.dot(theta)-y)\n",
    "        theta = theta - eta*gradients\n",
    "    else: break\n"
   ]
  },
  {
   "cell_type": "code",
   "execution_count": null,
   "metadata": {},
   "outputs": [],
   "source": [
    "theta"
   ]
  },
  {
   "cell_type": "code",
   "execution_count": null,
   "metadata": {},
   "outputs": [],
   "source": [
    "n_epochs = 10\n",
    "t0 ,t1 = 5,50\n",
    "def learning_schedule(t):\n",
    "    return t0 / (t+t1)\n",
    "theta = np.random.randn(2,1)\n",
    "\n",
    "for epoch in range(n_epochs):\n",
    "    for i in range(m):\n",
    "        random_index = np.random.randint(m)\n",
    "        xi = X_b[random_index:random_index+1]\n",
    "        yi = y[random_index:random_index+1]\n",
    "        gradients = 2*xi.T.dot(xi.dot(theta)-yi)\n",
    "        eta = learning_schedule(epoch*m+i)\n",
    "        theta = theta - eta* gradients\n",
    "        \n",
    "        \n",
    "        \n",
    "        \n",
    "        "
   ]
  },
  {
   "cell_type": "code",
   "execution_count": null,
   "metadata": {},
   "outputs": [],
   "source": [
    "theta"
   ]
  },
  {
   "cell_type": "code",
   "execution_count": null,
   "metadata": {},
   "outputs": [],
   "source": [
    "from sklearn.linear_model import SGDRegressor\n",
    "sgd_reg = SGDRegressor(n_iter = 50, penalty = None, eta0 = 0.1)\n",
    "sgd_reg.fit(X,y.ravel())\n",
    "sgd_reg.intercept_, sgd_reg.coef_"
   ]
  },
  {
   "cell_type": "code",
   "execution_count": 67,
   "metadata": {},
   "outputs": [
    {
     "data": {
      "text/plain": [
       "<matplotlib.collections.PathCollection at 0x24f64b04978>"
      ]
     },
     "execution_count": 67,
     "metadata": {},
     "output_type": "execute_result"
    },
    {
     "data": {
      "image/png": "[encoded data removed]",
      "text/plain": [
       "<Figure size 432x288 with 1 Axes>"
      ]
     },
     "metadata": {
      "needs_background": "light"
     },
     "output_type": "display_data"
    }
   ],
   "source": [
    "m =100\n",
    "X = 6* np.random.rand(m,1)-3\n",
    "y = 0.5*X**2 + X+2 + np.random.rand(m,1)\n",
    "plt.scatter(X,y)"
   ]
  },
  {
   "cell_type": "code",
   "execution_count": 22,
   "metadata": {},
   "outputs": [
    {
     "data": {
      "text/plain": [
       "array([1.87087034])"
      ]
     },
     "execution_count": 22,
     "metadata": {},
     "output_type": "execute_result"
    }
   ],
   "source": [
    "from sklearn.preprocessing import PolynomialFeatures\n",
    "poly_features = PolynomialFeatures(degree =2 , include_bias=False)\n",
    "X_poly = poly_features.fit_transform(X)\n",
    "X[0]"
   ]
  },
  {
   "cell_type": "code",
   "execution_count": 15,
   "metadata": {},
   "outputs": [
    {
     "data": {
      "text/plain": [
       "array([1.87087034, 3.50015583])"
      ]
     },
     "execution_count": 15,
     "metadata": {},
     "output_type": "execute_result"
    }
   ],
   "source": [
    "X_poly[0]"
   ]
  },
  {
   "cell_type": "code",
   "execution_count": 68,
   "metadata": {},
   "outputs": [
    {
     "data": {
      "text/plain": [
       "(array([3.58348277]), array([[ 1.47187457, -0.42303465]]))"
      ]
     },
     "execution_count": 68,
     "metadata": {},
     "output_type": "execute_result"
    }
   ],
   "source": [
    "lin_reg = LinearRegression()\n",
    "lin_reg.fit(X_poly,y)\n",
    "lin_reg.intercept_, lin_reg.coef_"
   ]
  },
  {
   "cell_type": "code",
   "execution_count": 69,
   "metadata": {},
   "outputs": [],
   "source": [
    "from sklearn.metrics import mean_squared_error\n",
    "from sklearn.model_selection import train_test_split\n",
    "def plot_learning_curve(model,X,y):\n",
    "    X_train,X_val , y_train, y_val = train_test_split(X,y,test_size = 0.2)\n",
    "    train_errors, val_errors = [], []\n",
    "    for m in range(1, len(X_train)):\n",
    "        model.fit(X_train[:m], y_train[:m])\n",
    "        y_train_predict = model.predict(X_train[:m])\n",
    "        y_val_predict = model.predict(X_val[:m])\n",
    "        train_errors.append(mean_squared_error(y_train_predict,y_train[:m]))\n",
    "        val_errors.append(mean_squared_error(y_val_predict,y_val[:m]))\n",
    "    \n",
    "    plt.plot(np.sqrt(train_errors),\"r-+\", linewidth = 2, label=\"train\")\n",
    "    plt.plot(np.sqrt(val_errors), \"b-\", linewidth =3, label= \"val\" )\n"
   ]
  },
  {
   "cell_type": "code",
   "execution_count": 70,
   "metadata": {},
   "outputs": [
    {
     "data": {
      "text/plain": [
       "<matplotlib.legend.Legend at 0x24f64b2b0b8>"
      ]
     },
     "execution_count": 70,
     "metadata": {},
     "output_type": "execute_result"
    },
    {
     "data": {
      "image/png": "[encoded data removed]",
      "text/plain": [
       "<Figure size 432x288 with 1 Axes>"
      ]
     },
     "metadata": {
      "needs_background": "light"
     },
     "output_type": "display_data"
    }
   ],
   "source": [
    "lin_reg = LinearRegression()\n",
    "plot_learning_curve(lin_reg,X,y)\n",
    "plt.legend(loc='upper right')"
   ]
  },
  {
   "cell_type": "code",
   "execution_count": 71,
   "metadata": {},
   "outputs": [
    {
     "data": {
      "text/plain": [
       "<matplotlib.legend.Legend at 0x24f64a3c4e0>"
      ]
     },
     "execution_count": 71,
     "metadata": {},
     "output_type": "execute_result"
    },
    {
     "data": {
      "image/png": "[encoded data removed]",
      "text/plain": [
       "<Figure size 432x288 with 1 Axes>"
      ]
     },
     "metadata": {
      "needs_background": "light"
     },
     "output_type": "display_data"
    }
   ],
   "source": [
    "from sklearn.pipeline import Pipeline\n",
    "polynomial_regression= Pipeline(((\"poly_features \", PolynomialFeatures(degree=10, include_bias =False)), (\"sgd_reg\",LinearRegression()),))\n",
    "plot_learning_curve(polynomial_regression,X,y)\n",
    "plt.legend(loc='upper right')"
   ]
  },
  {
   "cell_type": "code",
   "execution_count": 72,
   "metadata": {},
   "outputs": [
    {
     "data": {
      "text/plain": [
       "array([[5.77879535]])"
      ]
     },
     "execution_count": 72,
     "metadata": {},
     "output_type": "execute_result"
    }
   ],
   "source": [
    "from sklearn.linear_model import Ridge\n",
    "from sklearn.linear_model import SGDRegressor\n",
    "ridge_reg = Ridge(alpha=1, solver = \"cholesky\")\n",
    "ridge_reg.fit(X,y)\n",
    "ridge_reg.predict([[1.5]])"
   ]
  },
  {
   "cell_type": "code",
   "execution_count": 73,
   "metadata": {},
   "outputs": [
    {
     "name": "stderr",
     "output_type": "stream",
     "text": [
      "C:\\Anaconda3\\lib\\site-packages\\sklearn\\linear_model\\stochastic_gradient.py:166: FutureWarning: max_iter and tol parameters have been added in SGDRegressor in 0.19. If both are left unset, they default to max_iter=5 and tol=None. If tol is not None, max_iter defaults to max_iter=1000. From 0.21, default max_iter will be 1000, and default tol will be 1e-3.\n",
      "  FutureWarning)\n"
     ]
    },
    {
     "data": {
      "text/plain": [
       "array([4.90328412])"
      ]
     },
     "execution_count": 73,
     "metadata": {},
     "output_type": "execute_result"
    }
   ],
   "source": [
    "sgd_reg = SGDRegressor(penalty=\"l2\")\n",
    "sgd_reg.fit(X,y.ravel())\n",
    "sgd_reg.predict([[1.5]])"
   ]
  },
  {
   "cell_type": "code",
   "execution_count": 74,
   "metadata": {},
   "outputs": [
    {
     "name": "stderr",
     "output_type": "stream",
     "text": [
      "C:\\Anaconda3\\lib\\site-packages\\sklearn\\linear_model\\stochastic_gradient.py:166: FutureWarning: max_iter and tol parameters have been added in SGDRegressor in 0.19. If both are left unset, they default to max_iter=5 and tol=None. If tol is not None, max_iter defaults to max_iter=1000. From 0.21, default max_iter will be 1000, and default tol will be 1e-3.\n",
      "  FutureWarning)\n"
     ]
    },
    {
     "data": {
      "text/plain": [
       "array([4.89393538])"
      ]
     },
     "execution_count": 74,
     "metadata": {},
     "output_type": "execute_result"
    }
   ],
   "source": [
    "sgd_reg =SGDRegressor(penalty=\"l1\")\n",
    "sgd_reg.fit(X,y.ravel())\n",
    "sgd_reg.predict([[1.5]])"
   ]
  },
  {
   "cell_type": "code",
   "execution_count": 75,
   "metadata": {},
   "outputs": [
    {
     "data": {
      "text/plain": [
       "array([5.74475479])"
      ]
     },
     "execution_count": 75,
     "metadata": {},
     "output_type": "execute_result"
    }
   ],
   "source": [
    "from sklearn.linear_model import ElasticNet\n",
    "elastic_net = ElasticNet(alpha =0.1, l1_ratio=0.5)\n",
    "elastic_net.fit(X,y)\n",
    "elastic_net.predict([[1.5]])"
   ]
  },
  {
   "cell_type": "code",
   "execution_count": 93,
   "metadata": {},
   "outputs": [
    {
     "data": {
      "text/plain": [
       "array([0, 0, 0, 0, 0, 0, 0, 0, 0, 0, 0, 0, 0, 0, 0, 0, 0, 0, 0, 0, 0, 0,\n",
       "       0, 0, 0, 0, 0, 0, 0, 0, 0, 0, 0, 0, 0, 0, 0, 0, 0, 0, 0, 0, 0, 0,\n",
       "       0, 0, 0, 0, 0, 0, 0, 0, 0, 0, 0, 0, 0, 0, 0, 0, 0, 0, 0, 0, 0, 0,\n",
       "       0, 0, 0, 0, 0, 0, 0, 0, 0, 0, 0, 0, 0, 0, 0, 0, 0, 0, 0, 0, 0, 0,\n",
       "       0, 0, 0, 0, 0, 0, 0, 0, 0, 0, 0, 0, 1, 1, 1, 1, 1, 1, 1, 1, 1, 1,\n",
       "       1, 1, 1, 1, 1, 1, 1, 1, 1, 1, 1, 1, 1, 1, 1, 1, 1, 1, 1, 1, 1, 1,\n",
       "       1, 1, 1, 1, 1, 1, 1, 1, 1, 1, 1, 1, 1, 1, 1, 1, 1, 1])"
      ]
     },
     "execution_count": 93,
     "metadata": {},
     "output_type": "execute_result"
    }
   ],
   "source": [
    "from sklearn import datasets\n",
    "iris = datasets.load_iris()\n",
    "list(iris.keys())\n",
    "X=iris[\"data\"][:,3:]\n",
    "y= (iris[\"target\"]==2).astype(np.int)\n"
   ]
  },
  {
   "cell_type": "code",
   "execution_count": 94,
   "metadata": {},
   "outputs": [
    {
     "name": "stderr",
     "output_type": "stream",
     "text": [
      "C:\\Anaconda3\\lib\\site-packages\\sklearn\\linear_model\\logistic.py:433: FutureWarning: Default solver will be changed to 'lbfgs' in 0.22. Specify a solver to silence this warning.\n",
      "  FutureWarning)\n"
     ]
    },
    {
     "data": {
      "text/plain": [
       "LogisticRegression(C=1.0, class_weight=None, dual=False, fit_intercept=True,\n",
       "          intercept_scaling=1, max_iter=100, multi_class='warn',\n",
       "          n_jobs=None, penalty='l2', random_state=None, solver='warn',\n",
       "          tol=0.0001, verbose=0, warm_start=False)"
      ]
     },
     "execution_count": 94,
     "metadata": {},
     "output_type": "execute_result"
    }
   ],
   "source": [
    "from sklearn.linear_model import LogisticRegression\n",
    "log_reg = LogisticRegression()\n",
    "log_reg.fit(X,y)"
   ]
  },
  {
   "cell_type": "code",
   "execution_count": 101,
   "metadata": {},
   "outputs": [],
   "source": [
    "X_new = np.linspace(0,3,1000).reshape(-1,1)\n"
   ]
  },
  {
   "cell_type": "code",
   "execution_count": 102,
   "metadata": {},
   "outputs": [
    {
     "data": {
      "text/plain": [
       "[<matplotlib.lines.Line2D at 0x24f64c79f60>]"
      ]
     },
     "execution_count": 102,
     "metadata": {},
     "output_type": "execute_result"
    },
    {
     "data": {
      "image/png": "[encoded data removed]",
      "text/plain": [
       "<Figure size 432x288 with 1 Axes>"
      ]
     },
     "metadata": {
      "needs_background": "light"
     },
     "output_type": "display_data"
    }
   ],
   "source": [
    "y_proba = log_reg.predict_proba(X_new)\n",
    "plt.plot(X_new, y_proba[:, 1], \"g-\", label=\"Iris-Virginica\")\n",
    "plt.plot(X_new, y_proba[:, 0], \"b--\", label=\"Not Iris-Virginica\")"
   ]
  },
  {
   "cell_type": "code",
   "execution_count": 106,
   "metadata": {},
   "outputs": [
    {
     "data": {
      "text/plain": [
       "LogisticRegression(C=10, class_weight=None, dual=False, fit_intercept=True,\n",
       "          intercept_scaling=1, max_iter=100, multi_class='multinomial',\n",
       "          n_jobs=None, penalty='l2', random_state=None, solver='lbfgs',\n",
       "          tol=0.0001, verbose=0, warm_start=False)"
      ]
     },
     "execution_count": 106,
     "metadata": {},
     "output_type": "execute_result"
    }
   ],
   "source": [
    "X=iris[\"data\"][:,(2,3)]\n",
    "y= iris[\"target\"]\n",
    "softmax_reg = LogisticRegression(multi_class = \"multinomial\", solver = \"lbfgs\", C=10)\n",
    "softmax_reg.fit(X,y)"
   ]
  },
  {
   "cell_type": "code",
   "execution_count": 107,
   "metadata": {},
   "outputs": [
    {
     "data": {
      "text/plain": [
       "array([2])"
      ]
     },
     "execution_count": 107,
     "metadata": {},
     "output_type": "execute_result"
    }
   ],
   "source": [
    "softmax_reg.predict([[5, 2]])"
   ]
  },
  {
   "cell_type": "code",
   "execution_count": 108,
   "metadata": {},
   "outputs": [
    {
     "data": {
      "text/plain": [
       "array([[6.38014896e-07, 5.74929995e-02, 9.42506362e-01]])"
      ]
     },
     "execution_count": 108,
     "metadata": {},
     "output_type": "execute_result"
    }
   ],
   "source": [
    "softmax_reg.predict_proba([[5, 2]])"
   ]
  },
  {
   "cell_type": "code",
   "execution_count": null,
   "metadata": {},
   "outputs": [],
   "source": []
  }
 ],
 "metadata": {
  "kernelspec": {
   "display_name": "Python 3",
   "language": "python",
   "name": "python3"
  },
  "language_info": {
   "codemirror_mode": {
    "name": "ipython",
    "version": 3
   },
   "file_extension": ".py",
   "mimetype": "text/x-python",
   "name": "python",
   "nbconvert_exporter": "python",
   "pygments_lexer": "ipython3",
   "version": "3.7.1"
  }
 },
 "nbformat": 4,
 "nbformat_minor": 2
}
